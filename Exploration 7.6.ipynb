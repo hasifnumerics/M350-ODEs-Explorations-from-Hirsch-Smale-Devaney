{
 "cells": [
  {
   "attachments": {},
   "cell_type": "markdown",
   "metadata": {},
   "source": [
    "Exploration 7.2\n",
    "\n",
    "\\textbf{2}\n",
    "We write an euler code to approximate the solution at $y(10)$\n",
    "_____"
   ]
  },
  {
   "cell_type": "code",
   "execution_count": null,
   "metadata": {},
   "outputs": [],
   "source": [
    "def f(t,y):\n",
    "    return np.exp(t)*np.sin(y)"
   ]
  },
  {
   "cell_type": "code",
   "execution_count": null,
   "metadata": {},
   "outputs": [],
   "source": [
    "def soln(t):\n",
    "    return 2 * np.arctan(1 / (17.9858 * np.exp(-np.exp(t))))"
   ]
  },
  {
   "cell_type": "code",
   "execution_count": 85,
   "metadata": {},
   "outputs": [
    {
     "name": "stdout",
     "output_type": "stream",
     "text": [
      "Approximate value of y(10) using Euler's method: 10909.871541508808\n"
     ]
    }
   ],
   "source": [
    "import math\n",
    "\n",
    "def euler_method(t0, y0, h, t_end):\n",
    "    t = t0\n",
    "    y = y0\n",
    "    while t < t_end:\n",
    "        y += h * math.exp(t) * math.sin(y)\n",
    "        t += h\n",
    "    return y\n",
    "\n",
    "# Given values\n",
    "t0 = 0\n",
    "y0 = 0.30\n",
    "h = 0.30\n",
    "t_end = 10\n",
    "\n",
    "y_10 = euler_method(t0, y0, h, t_end)\n",
    "print(\"Approximate value of y(10) using Euler's method:\", y_10)"
   ]
  },
  {
   "cell_type": "code",
   "execution_count": 86,
   "metadata": {},
   "outputs": [
    {
     "name": "stdout",
     "output_type": "stream",
     "text": [
      "Analytical prediction of y(10) is 3.141592653589793\n",
      "Ratio of numerical vs analytical is 3472.719968657446\n"
     ]
    },
    {
     "name": "stderr",
     "output_type": "stream",
     "text": [
      "C:\\Users\\Hasif\\AppData\\Local\\Temp\\ipykernel_31412\\1519247141.py:2: RuntimeWarning: divide by zero encountered in double_scalars\n",
      "  return 2 * np.arctan(1 / (17.9858 * np.exp(-np.exp(t))))\n"
     ]
    }
   ],
   "source": [
    "analytical_prediction= soln(10)\n",
    "\n",
    "ratio= y_10/analytical_prediction\n",
    "print(\"Analytical prediction of y(10) is\", analytical_prediction)\n",
    "print(\"Ratio of numerical vs analytical is\", ratio)\n"
   ]
  },
  {
   "cell_type": "markdown",
   "metadata": {},
   "source": [
    "We see from the printed ratio, the numerical approximation blow up as it is nowhere close to analytical solution of $y(10)$\n",
    "\n",
    "_____\n"
   ]
  },
  {
   "cell_type": "markdown",
   "metadata": {},
   "source": [
    "3\n",
    "____\n",
    "\n",
    "We now vary our stepsizes."
   ]
  },
  {
   "cell_type": "code",
   "execution_count": 90,
   "metadata": {},
   "outputs": [
    {
     "name": "stdout",
     "output_type": "stream",
     "text": [
      "Approximate value of y(10) using Euler's method: -1179.6728318223827\n"
     ]
    }
   ],
   "source": [
    "import math\n",
    "\n",
    "def euler_method(t0, y0, h, t_end):\n",
    "    t = t0\n",
    "    y = y0\n",
    "    while t < t_end:\n",
    "        y += h * math.exp(t) * math.sin(y)\n",
    "        t += h\n",
    "    return y\n",
    "\n",
    "# Given values\n",
    "t0 = 0\n",
    "y0 = 0.001\n",
    "h = 0.001 \n",
    "t_end = 10\n",
    "\n",
    "y_10 = euler_method(t0, y0, h, t_end)\n",
    "print(\"Approximate value of y(10) using Euler's method:\", y_10)"
   ]
  },
  {
   "cell_type": "code",
   "execution_count": 93,
   "metadata": {},
   "outputs": [
    {
     "name": "stdout",
     "output_type": "stream",
     "text": [
      "Approximate value of y(10) using Euler's method: 522.1741061875068\n"
     ]
    }
   ],
   "source": [
    "import math\n",
    "\n",
    "def euler_method(t0, y0, h, t_end):\n",
    "    t = t0\n",
    "    y = y0\n",
    "    while t < t_end:\n",
    "        y += h * math.exp(t) * math.sin(y)\n",
    "        t += h\n",
    "    return y\n",
    "\n",
    "# Given values\n",
    "t0 = 0\n",
    "y0 = 0.002\n",
    "h = 0.002\n",
    "t_end = 10\n",
    "\n",
    "y_10 = euler_method(t0, y0, h, t_end)\n",
    "print(\"Approximate value of y(10) using Euler's method:\", y_10)"
   ]
  },
  {
   "cell_type": "code",
   "execution_count": 95,
   "metadata": {},
   "outputs": [
    {
     "name": "stdout",
     "output_type": "stream",
     "text": [
      "Approximate value of y(10) using Euler's method: -462.84192139051936\n"
     ]
    }
   ],
   "source": [
    "import math\n",
    "\n",
    "def euler_method(t0, y0, h, t_end):\n",
    "    t = t0\n",
    "    y = y0\n",
    "    while t < t_end:\n",
    "        y += h * math.exp(t) * math.sin(y)\n",
    "        t += h\n",
    "    return y\n",
    "\n",
    "# Given values\n",
    "t0 = 0\n",
    "y0 = 0.003\n",
    "h = 0.003\n",
    "t_end = 10\n",
    "\n",
    "y_10 = euler_method(t0, y0, h, t_end)\n",
    "print(\"Approximate value of y(10) using Euler's method:\", y_10)"
   ]
  },
  {
   "cell_type": "markdown",
   "metadata": {},
   "source": [
    "We see that for little perturbations to initial conditions the y(10) varies drastically-- For 0.001, the prediction is -1179.6728318223827 and For stepsize 0.002, the prediction is 522.1741061875068 and for stepsize 0.003 the prediction is -462.84192139051936. This shows the sensitivity of initial condition variance. This portrayal fulfills step 3. \n",
    "\n",
    "_____\n",
    "4\n",
    "Now we perturb our initial conditions."
   ]
  },
  {
   "cell_type": "code",
   "execution_count": 96,
   "metadata": {},
   "outputs": [
    {
     "name": "stdout",
     "output_type": "stream",
     "text": [
      "Approximate value of y(10) using Euler's method: -683.260730706581\n"
     ]
    }
   ],
   "source": [
    "import math\n",
    "\n",
    "def euler_method(t0, y0, h, t_end):\n",
    "    t = t0\n",
    "    y = y0\n",
    "    while t < t_end:\n",
    "        y += h * math.exp(t) * math.sin(y)\n",
    "        t += h\n",
    "    return y\n",
    "\n",
    "# Given values\n",
    "t0 = 0\n",
    "y0 = 0.301\n",
    "h = 0.30\n",
    "t_end = 10\n",
    "\n",
    "y_10 = euler_method(t0, y0, h, t_end)\n",
    "print(\"Approximate value of y(10) using Euler's method:\", y_10)"
   ]
  },
  {
   "cell_type": "code",
   "execution_count": 97,
   "metadata": {},
   "outputs": [
    {
     "name": "stdout",
     "output_type": "stream",
     "text": [
      "Approximate value of y(10) using Euler's method: 12467.542923116842\n"
     ]
    }
   ],
   "source": [
    "import math\n",
    "\n",
    "def euler_method(t0, y0, h, t_end):\n",
    "    t = t0\n",
    "    y = y0\n",
    "    while t < t_end:\n",
    "        y += h * math.exp(t) * math.sin(y)\n",
    "        t += h\n",
    "    return y\n",
    "\n",
    "# Given values\n",
    "t0 = 0\n",
    "y0 = 0.302\n",
    "h = 0.30\n",
    "t_end = 10\n",
    "\n",
    "y_10 = euler_method(t0, y0, h, t_end)\n",
    "print(\"Approximate value of y(10) using Euler's method:\", y_10)"
   ]
  },
  {
   "cell_type": "markdown",
   "metadata": {},
   "source": [
    "Notice how varying initial conditions from y(0)= 0.30 to y(0)=0.31, 0.32 changes our numerical approximation drastically. Given subtle perturbations to initial conditions bring these drastic changes we can claim that it exhibits sensitive dependence on initial conditions\n",
    "____\n",
    "\n",
    "We now throw our hand at using Runge-Kutta method for the numerical approximation to satisfy no.6\n",
    "\n",
    "6\n",
    "______\n"
   ]
  },
  {
   "cell_type": "markdown",
   "metadata": {},
   "source": [
    "![Alt text](image.png)"
   ]
  },
  {
   "cell_type": "code",
   "execution_count": 98,
   "metadata": {},
   "outputs": [
    {
     "name": "stdout",
     "output_type": "stream",
     "text": [
      "Approximate value of y(10) using 4th order Runge-Kutta method: 13386.789636711563\n"
     ]
    }
   ],
   "source": [
    "import math\n",
    "\n",
    "def f(t, y):\n",
    "    return math.exp(t) * math.sin(y)\n",
    "\n",
    "def runge_kutta_4th_order(t0, y0, h, t_end):\n",
    "    t = t0\n",
    "    y = y0\n",
    "    while t < t_end:\n",
    "        k1 = h * f(t, y)\n",
    "        k2 = h * f(t + 0.5*h, y + 0.5*k1)\n",
    "        k3 = h * f(t + 0.5*h, y + 0.5*k2)\n",
    "        k4 = h * f(t + h, y + k3)\n",
    "\n",
    "        y += (k1 + 2*k2 + 2*k3 + k4) / 6.0\n",
    "        t += h\n",
    "    return y\n",
    "\n",
    "# Given values\n",
    "t0 = 0\n",
    "y0 = 0.3\n",
    "h = 0.3\n",
    "t_end = 10\n",
    "\n",
    "y_10 = runge_kutta_4th_order(t0, y0, h, t_end)\n",
    "print(\"Approximate value of y(10) using 4th order Runge-Kutta method:\", y_10)\n"
   ]
  },
  {
   "cell_type": "markdown",
   "metadata": {},
   "source": [
    "Now, let's vary stepsizes"
   ]
  },
  {
   "cell_type": "code",
   "execution_count": 101,
   "metadata": {},
   "outputs": [
    {
     "name": "stdout",
     "output_type": "stream",
     "text": [
      "Approximate value of y(10) using 4th order Runge-Kutta method: 830.3944247777524\n"
     ]
    }
   ],
   "source": [
    "import math\n",
    "\n",
    "def f(t, y):\n",
    "    return math.exp(t) * math.sin(y)\n",
    "\n",
    "def runge_kutta_4th_order(t0, y0, h, t_end):\n",
    "    t = t0\n",
    "    y = y0\n",
    "    while t < t_end:\n",
    "        k1 = h * f(t, y)\n",
    "        k2 = h * f(t + 0.5*h, y + 0.5*k1)\n",
    "        k3 = h * f(t + 0.5*h, y + 0.5*k2)\n",
    "        k4 = h * f(t + h, y + k3)\n",
    "\n",
    "        y += (k1 + 2*k2 + 2*k3 + k4) / 6.0\n",
    "        t += h\n",
    "    return y\n",
    "\n",
    "# Given values\n",
    "t0 = 0\n",
    "y0 = 0.30\n",
    "h = 0.001\n",
    "t_end = 10\n",
    "\n",
    "y_10 = runge_kutta_4th_order(t0, y0, h, t_end)\n",
    "print(\"Approximate value of y(10) using 4th order Runge-Kutta method:\", y_10)\n"
   ]
  },
  {
   "cell_type": "code",
   "execution_count": 102,
   "metadata": {},
   "outputs": [
    {
     "name": "stdout",
     "output_type": "stream",
     "text": [
      "Approximate value of y(10) using 4th order Runge-Kutta method: -105.35173254917531\n"
     ]
    }
   ],
   "source": [
    "import math\n",
    "\n",
    "def f(t, y):\n",
    "    return math.exp(t) * math.sin(y)\n",
    "\n",
    "def runge_kutta_4th_order(t0, y0, h, t_end):\n",
    "    t = t0\n",
    "    y = y0\n",
    "    while t < t_end:\n",
    "        k1 = h * f(t, y)\n",
    "        k2 = h * f(t + 0.5*h, y + 0.5*k1)\n",
    "        k3 = h * f(t + 0.5*h, y + 0.5*k2)\n",
    "        k4 = h * f(t + h, y + k3)\n",
    "\n",
    "        y += (k1 + 2*k2 + 2*k3 + k4) / 6.0\n",
    "        t += h\n",
    "    return y\n",
    "\n",
    "# Given values\n",
    "t0 = 0\n",
    "y0 = 0.30\n",
    "h = 0.002\n",
    "t_end = 10\n",
    "\n",
    "y_10 = runge_kutta_4th_order(t0, y0, h, t_end)\n",
    "print(\"Approximate value of y(10) using 4th order Runge-Kutta method:\", y_10)"
   ]
  },
  {
   "cell_type": "code",
   "execution_count": 103,
   "metadata": {},
   "outputs": [
    {
     "name": "stdout",
     "output_type": "stream",
     "text": [
      "Approximate value of y(10) using 4th order Runge-Kutta method: 161.6033865748213\n"
     ]
    }
   ],
   "source": [
    "import math\n",
    "\n",
    "def f(t, y):\n",
    "    return math.exp(t) * math.sin(y)\n",
    "\n",
    "def runge_kutta_4th_order(t0, y0, h, t_end):\n",
    "    t = t0\n",
    "    y = y0\n",
    "    while t < t_end:\n",
    "        k1 = h * f(t, y)\n",
    "        k2 = h * f(t + 0.5*h, y + 0.5*k1)\n",
    "        k3 = h * f(t + 0.5*h, y + 0.5*k2)\n",
    "        k4 = h * f(t + h, y + k3)\n",
    "\n",
    "        y += (k1 + 2*k2 + 2*k3 + k4) / 6.0\n",
    "        t += h\n",
    "    return y\n",
    "\n",
    "# Given values\n",
    "t0 = 0\n",
    "y0 = 0.30\n",
    "h = 0.003\n",
    "t_end = 10\n",
    "\n",
    "y_10 = runge_kutta_4th_order(t0, y0, h, t_end)\n",
    "print(\"Approximate value of y(10) using 4th order Runge-Kutta method:\", y_10)"
   ]
  },
  {
   "cell_type": "markdown",
   "metadata": {},
   "source": [
    "We see that there is qualitively no change in the numerical approximations being way far from the analytical solution of $\\pi$ even after using Runge-Kutta method. This is what step 6 asks for, we are done."
   ]
  },
  {
   "cell_type": "markdown",
   "metadata": {},
   "source": [
    "7\n",
    "____\n",
    "\n",
    "We want to find similar differential equations where numerical schemes break down. We see that $y'(t)= e^t cos(y)$ with ic $y(0)=1$ also breaks down"
   ]
  },
  {
   "cell_type": "code",
   "execution_count": null,
   "metadata": {},
   "outputs": [],
   "source": [
    "import math\n",
    "\n",
    "def f(t, y):\n",
    "    return math.exp(t) * math.cos(y)\n",
    "\n",
    "def runge_kutta_4th_order(t0, y0, h, t_end):\n",
    "    t = t0\n",
    "    y = y0\n",
    "    while t < t_end:\n",
    "        k1 = h * f(t, y)\n",
    "        k2 = h * f(t + 0.5*h, y + 0.5*k1)\n",
    "        k3 = h * f(t + 0.5*h, y + 0.5*k2)\n",
    "        k4 = h * f(t + h, y + k3)\n",
    "\n",
    "        y += (k1 + 2*k2 + 2*k3 + k4) / 6.0\n",
    "        t += h\n",
    "    return y\n",
    "\n",
    "# Given values\n",
    "t0 = 0\n",
    "y0 = 1\n",
    "h = 0.30\n",
    "t_end = 10\n",
    "\n",
    "y_10 = runge_kutta_4th_order(t0, y0, h, t_end)\n",
    "print(\"Approximate value of y(10) using 4th order Runge-Kutta method:\", y_10)\n"
   ]
  },
  {
   "cell_type": "code",
   "execution_count": null,
   "metadata": {},
   "outputs": [],
   "source": [
    "import math\n",
    "\n",
    "def f(t, y):\n",
    "    return math.exp(t) * math.cos(y)\n",
    "\n",
    "def runge_kutta_4th_order(t0, y0, h, t_end):\n",
    "    t = t0\n",
    "    y = y0\n",
    "    while t < t_end:\n",
    "        k1 = h * f(t, y)\n",
    "        k2 = h * f(t + 0.5*h, y + 0.5*k1)\n",
    "        k3 = h * f(t + 0.5*h, y + 0.5*k2)\n",
    "        k4 = h * f(t + h, y + k3)\n",
    "\n",
    "        y += (k1 + 2*k2 + 2*k3 + k4) / 6.0\n",
    "        t += h\n",
    "    return y\n",
    "\n",
    "# Given values\n",
    "t0 = 0\n",
    "y0 = 1\n",
    "h = 0.301\n",
    "t_end = 10\n",
    "\n",
    "y_10 = runge_kutta_4th_order(t0, y0, h, t_end)\n",
    "print(\"Approximate value of y(10) using 4th order Runge-Kutta method:\", y_10)"
   ]
  },
  {
   "cell_type": "markdown",
   "metadata": {},
   "source": [
    "So we see that our example for step 7 works."
   ]
  }
 ],
 "metadata": {
  "kernelspec": {
   "display_name": "MATH420",
   "language": "python",
   "name": "python3"
  },
  "language_info": {
   "codemirror_mode": {
    "name": "ipython",
    "version": 3
   },
   "file_extension": ".py",
   "mimetype": "text/x-python",
   "name": "python",
   "nbconvert_exporter": "python",
   "pygments_lexer": "ipython3",
   "version": "3.9.15"
  },
  "orig_nbformat": 4
 },
 "nbformat": 4,
 "nbformat_minor": 2
}
